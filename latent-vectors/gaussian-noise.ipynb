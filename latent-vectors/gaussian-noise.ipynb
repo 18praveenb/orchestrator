{
 "cells": [
  {
   "cell_type": "code",
   "execution_count": 46,
   "metadata": {},
   "outputs": [],
   "source": [
    "from pathlib import Path\n",
    "import librosa\n",
    "import torch\n",
    "from argparse import ArgumentParser\n",
    "import matplotlib\n",
    "import h5py\n",
    "import tqdm\n",
    "from IPython.display import Audio, display\n",
    "\n",
    "import numpy as np\n",
    "\n",
    "import sys\n",
    "sys.path += ['../music-translation/src']\n",
    "\n",
    "import utils\n",
    "import wavenet_models\n",
    "from utils import save_audio\n",
    "from wavenet import WaveNet\n",
    "from wavenet_generator import WavenetGenerator\n",
    "from nv_wavenet_generator import NVWavenetGenerator\n",
    "from nv_wavenet_generator import Impl"
   ]
  },
  {
   "cell_type": "code",
   "execution_count": 47,
   "metadata": {},
   "outputs": [
    {
     "name": "stdout",
     "output_type": "stream",
     "text": [
      "tensor([[[ 8.7675e-02, -5.8459e-02, -7.1272e-02,  ..., -5.4422e-02,\n",
      "          -1.3931e-01, -1.1900e-01],\n",
      "         [-7.6073e-01, -7.4693e-01, -2.5110e-01,  ...,  7.0855e-01,\n",
      "           7.1958e-01,  6.2726e-01],\n",
      "         [ 7.0419e-02, -7.1841e-03, -8.3471e-02,  ..., -2.2622e-01,\n",
      "          -3.5729e-01, -2.1907e-01],\n",
      "         ...,\n",
      "         [-2.4616e-01, -1.5479e-01,  1.1283e-01,  ..., -4.9195e-01,\n",
      "          -5.8850e-01, -6.0281e-01],\n",
      "         [-1.2716e-02,  1.3529e-01,  2.4566e-01,  ..., -5.3472e-01,\n",
      "          -6.0958e-01, -6.3094e-01],\n",
      "         [-1.3738e-01,  2.4088e-02,  1.2584e-01,  ...,  1.0179e-01,\n",
      "           1.7099e-01,  1.2984e-01]],\n",
      "\n",
      "        [[ 1.5184e-01,  1.3664e-01,  1.7382e-01,  ..., -4.5771e-02,\n",
      "          -1.2188e-01, -1.2494e-01],\n",
      "         [-6.4059e-01, -6.0842e-01, -6.0881e-01,  ...,  1.9787e-01,\n",
      "           9.2620e-02, -1.1554e-01],\n",
      "         [-7.6572e-03,  4.8237e-02,  4.3318e-02,  ..., -2.3059e-01,\n",
      "          -1.6698e-01, -9.5024e-02],\n",
      "         ...,\n",
      "         [-3.1849e-01, -4.3572e-01, -3.8803e-01,  ...,  2.0096e-01,\n",
      "           2.0337e-01,  1.9616e-01],\n",
      "         [ 8.6492e-02,  1.0626e-01,  8.6550e-02,  ...,  3.0795e-03,\n",
      "          -4.4336e-02,  7.9617e-03],\n",
      "         [-1.0553e-01, -8.0079e-02, -4.6107e-02,  ..., -2.1690e-01,\n",
      "          -2.4800e-01, -1.8818e-01]],\n",
      "\n",
      "        [[ 1.1311e-01,  1.2453e-01,  1.0750e-01,  ..., -7.6015e-02,\n",
      "           4.5041e-02,  3.6675e-02],\n",
      "         [-6.6864e-01, -5.8057e-01, -5.9626e-01,  ...,  1.0994e-01,\n",
      "           5.7695e-02,  1.9508e-01],\n",
      "         [ 3.0483e-04,  3.1993e-02, -2.7891e-03,  ..., -7.7934e-02,\n",
      "          -4.5657e-02, -6.1283e-02],\n",
      "         ...,\n",
      "         [-1.8185e-01, -2.0499e-01, -1.8906e-01,  ...,  1.8310e-01,\n",
      "           1.5880e-01,  1.9077e-01],\n",
      "         [ 9.2972e-02,  9.1192e-02,  4.7043e-02,  ...,  9.7199e-02,\n",
      "           1.0373e-01, -1.6322e-02],\n",
      "         [-6.5358e-02, -3.5367e-02,  2.5997e-02,  ..., -9.5919e-02,\n",
      "          -1.1290e-01, -1.6615e-01]],\n",
      "\n",
      "        ...,\n",
      "\n",
      "        [[ 1.1400e-01,  1.1683e-01,  1.2758e-01,  ...,  6.2455e-02,\n",
      "           5.3264e-02,  8.9247e-02],\n",
      "         [-5.3325e-01, -5.9310e-01, -5.5401e-01,  ...,  1.0965e-01,\n",
      "           1.1362e-01,  1.3153e-01],\n",
      "         [-4.8641e-02,  1.5313e-02, -6.7340e-02,  ...,  1.3643e-01,\n",
      "           1.3722e-01,  8.3960e-02],\n",
      "         ...,\n",
      "         [-2.1621e-01, -2.4272e-01, -1.6625e-01,  ..., -4.5626e-02,\n",
      "           6.1021e-03, -1.1851e-01],\n",
      "         [ 5.5774e-02,  7.4690e-02,  1.1057e-01,  ..., -9.6530e-02,\n",
      "          -2.4904e-02, -7.9834e-02],\n",
      "         [-7.5498e-02, -4.3340e-02, -5.0703e-02,  ..., -8.0418e-02,\n",
      "           1.7556e-02,  5.5923e-02]],\n",
      "\n",
      "        [[ 1.6208e-01,  2.0334e-01,  2.1170e-01,  ...,  1.5855e-02,\n",
      "          -7.8796e-03, -6.8618e-04],\n",
      "         [-5.5384e-01, -5.9649e-01, -5.2453e-01,  ...,  2.8747e-02,\n",
      "           5.8932e-02,  6.5673e-02],\n",
      "         [ 8.1761e-02,  9.4548e-02,  1.1354e-01,  ...,  6.1559e-02,\n",
      "           1.4853e-02,  5.9946e-02],\n",
      "         ...,\n",
      "         [-2.1192e-01, -2.1397e-01, -1.8566e-01,  ..., -1.3402e-01,\n",
      "          -1.2317e-01, -1.3596e-01],\n",
      "         [ 3.8812e-02,  8.2499e-02,  5.4330e-02,  ..., -3.2994e-02,\n",
      "          -2.8446e-02, -2.8928e-02],\n",
      "         [-8.5505e-02, -5.9324e-02, -3.9841e-02,  ..., -8.3180e-03,\n",
      "           5.0694e-02,  3.1398e-03]],\n",
      "\n",
      "        [[ 1.8344e-01,  1.7362e-01,  1.6784e-01,  ...,  6.7075e-02,\n",
      "           2.3465e-02, -1.7589e-02],\n",
      "         [-6.4307e-01, -6.1762e-01, -6.0201e-01,  ...,  2.7550e-01,\n",
      "           1.7990e-01,  2.7064e-01],\n",
      "         [ 8.7788e-03,  6.0714e-02,  7.0262e-02,  ...,  2.3851e-02,\n",
      "           3.3555e-02,  3.7035e-02],\n",
      "         ...,\n",
      "         [-1.2114e-01, -1.5602e-01, -2.1857e-01,  ...,  7.6352e-02,\n",
      "           1.4564e-01, -8.7407e-02],\n",
      "         [ 1.0535e-01,  1.0112e-01,  1.6962e-01,  ..., -1.7239e-01,\n",
      "          -5.3016e-02, -1.2453e-01],\n",
      "         [-6.1113e-02, -7.1033e-02, -1.1785e-01,  ...,  6.8269e-02,\n",
      "           5.7450e-02,  1.3336e-01]]], device='cuda:0')\n"
     ]
    }
   ],
   "source": [
    "encoded = []\n",
    "for directory in Path('encoded-musicnet/encoded').iterdir():\n",
    "    for path in directory.iterdir():\n",
    "        encoded += [torch.load(path)]\n",
    "encoded = torch.cat(encoded, dim=0)\n",
    "print(encoded)"
   ]
  },
  {
   "cell_type": "code",
   "execution_count": 48,
   "metadata": {},
   "outputs": [
    {
     "name": "stdout",
     "output_type": "stream",
     "text": [
      "max 2.077653408050537\n",
      "min -1.7897802591323853\n",
      "mean -0.008956626988947392\n",
      "var 0.06574355810880661\n"
     ]
    }
   ],
   "source": [
    "max_val = torch.max(encoded).item()\n",
    "min_val = torch.min(encoded).item()\n",
    "\n",
    "mean = torch.mean(encoded).item()\n",
    "diffs = encoded - mean\n",
    "var = torch.mean(torch.pow(diffs, 2.0)).item()\n",
    "print(\"max\", max_val)\n",
    "print(\"min\", min_val)\n",
    "print(\"mean\", mean)\n",
    "print(\"var\", var)"
   ]
  },
  {
   "cell_type": "code",
   "execution_count": 49,
   "metadata": {},
   "outputs": [],
   "source": [
    "noise_vectors = []\n",
    "for i in range(5):\n",
    "    noise = np.random.normal(mean, var**0.5, (1, 64, 200))\n",
    "    noise = torch.from_numpy(noise)\n",
    "    noise_vectors += [noise]"
   ]
  },
  {
   "cell_type": "code",
   "execution_count": 50,
   "metadata": {},
   "outputs": [
    {
     "name": "stdout",
     "output_type": "stream",
     "text": [
      "Starting\n"
     ]
    }
   ],
   "source": [
    "checkpoint = Path('../music-translation/checkpoints/pretrained_musicnet/bestmodel')\n",
    "decoders = [0, 1, 2, 3, 4, 5]\n",
    "batch_size = 1\n",
    "rate = 16000\n",
    "split_size = 20\n",
    "\n",
    "\n",
    "\n",
    "def disp(x, decoder_ix):\n",
    "    wav = utils.inv_mu_law(x.cpu().numpy())\n",
    "    print(f'Decoder: {decoder_ix}')\n",
    "    print(f'X min: {x.min()}, max: {x.max()}')\n",
    "\n",
    "    display(Audio(wav.squeeze(), rate=rate))\n",
    "        \n",
    "def extract_id(path):\n",
    "    decoder_id = str(path)[:-4].split('_')[-1]\n",
    "    return int(decoder_id)\n",
    "\n",
    "\n",
    "\n",
    "print('Starting')\n",
    "matplotlib.use('agg')\n",
    "\n",
    "checkpoints = checkpoint.parent.glob(checkpoint.name + '_*.pth')\n",
    "checkpoints = [c for c in checkpoints if extract_id(c) in decoders]\n",
    "assert len(checkpoints) >= 1, \"No checkpoints found.\"\n",
    "\n",
    "model_args = torch.load(checkpoint.parent / 'args.pth')[0]\n",
    "\n",
    "decoders = []\n",
    "decoder_ids = []\n",
    "for checkpoint in checkpoints:\n",
    "    decoder = WaveNet(model_args)\n",
    "    decoder.load_state_dict(torch.load(checkpoint)['decoder_state'])\n",
    "    decoder.eval()\n",
    "    decoder = decoder.cuda()\n",
    "    decoder = WavenetGenerator(decoder, batch_size, wav_freq=rate)\n",
    "    \n",
    "    decoders += [decoder]\n",
    "    decoder_ids += [extract_id(checkpoint)]"
   ]
  },
  {
   "cell_type": "code",
   "execution_count": null,
   "metadata": {},
   "outputs": [
    {
     "name": "stdout",
     "output_type": "stream",
     "text": [
      "torch.Size([5, 64, 200])\n",
      "torch.Size([1, 64, 200])\n"
     ]
    },
    {
     "name": "stderr",
     "output_type": "stream",
     "text": [
      "/home/wangjim19/virtualenv/lib/python3.6/site-packages/ipykernel_launcher.py:18: TqdmDeprecationWarning: This function will be removed in tqdm==5.0.0\n",
      "Please use `tqdm.notebook.tqdm` instead of `tqdm.tqdm_notebook`\n"
     ]
    },
    {
     "data": {
      "application/vnd.jupyter.widget-view+json": {
       "model_id": "485fcc93511641a1a9ead2d83bc29690",
       "version_major": 2,
       "version_minor": 0
      },
      "text/plain": [
       "HBox(children=(FloatProgress(value=0.0, max=10.0), HTML(value='')))"
      ]
     },
     "metadata": {},
     "output_type": "display_data"
    },
    {
     "name": "stderr",
     "output_type": "stream",
     "text": [
      "Generating:   0%|          | 0/20 [00:00<?, ?it/s]../music-translation/src/wavenet_generator.py:104: UserWarning: Implicit dimension choice for softmax has been deprecated. Change the call to include dim=X as an argument.\n",
      "  probabilities = F.softmax(prediction)\n",
      "Generating:  50%|█████     | 10/20 [07:35<07:45, 46.57s/it]"
     ]
    }
   ],
   "source": [
    "yy = {}\n",
    "with torch.no_grad():\n",
    "    zz = []\n",
    "    for vector in noise_vectors:\n",
    "        zz += [vector]\n",
    "    zz = torch.cat(zz, dim=0).float().cuda()\n",
    "    print(zz.shape)\n",
    "\n",
    "    with utils.timeit(\"Generation timer\"):\n",
    "        for i, decoder_id in enumerate(decoder_ids):\n",
    "            yy[decoder_id] = []\n",
    "            decoder = decoders[i]\n",
    "            for zz_batch in torch.split(zz, batch_size):\n",
    "                print(zz_batch.shape)\n",
    "                splits = torch.split(zz_batch, split_size, -1)\n",
    "                audio_data = []\n",
    "                decoder.reset()\n",
    "                for cond in tqdm.tqdm_notebook(splits):\n",
    "                    audio_data += [decoder.generate(cond).cpu()]\n",
    "                audio_data = torch.cat(audio_data, -1)\n",
    "                yy[decoder_id] += [audio_data]\n",
    "            yy[decoder_id] = torch.cat(yy[decoder_id], dim=0)"
   ]
  },
  {
   "cell_type": "code",
   "execution_count": null,
   "metadata": {},
   "outputs": [],
   "source": []
  }
 ],
 "metadata": {
  "kernelspec": {
   "display_name": "Python 3",
   "language": "python",
   "name": "python3"
  },
  "language_info": {
   "codemirror_mode": {
    "name": "ipython",
    "version": 3
   },
   "file_extension": ".py",
   "mimetype": "text/x-python",
   "name": "python",
   "nbconvert_exporter": "python",
   "pygments_lexer": "ipython3",
   "version": "3.6.9"
  }
 },
 "nbformat": 4,
 "nbformat_minor": 4
}
