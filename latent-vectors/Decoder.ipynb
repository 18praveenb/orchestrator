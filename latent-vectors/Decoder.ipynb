{
 "cells": [
  {
   "cell_type": "code",
   "execution_count": 1,
   "metadata": {},
   "outputs": [],
   "source": [
    "from pathlib import Path\n",
    "import librosa\n",
    "import torch\n",
    "from argparse import ArgumentParser\n",
    "import matplotlib\n",
    "import h5py\n",
    "import tqdm\n",
    "from IPython.display import Audio, display\n",
    "\n",
    "import sys\n",
    "sys.path += ['../music-translation/src']\n",
    "\n",
    "import utils\n",
    "import wavenet_models\n",
    "from utils import save_audio\n",
    "from wavenet import WaveNet\n",
    "from wavenet_generator import WavenetGenerator\n",
    "from nv_wavenet_generator import NVWavenetGenerator\n",
    "from nv_wavenet_generator import Impl"
   ]
  },
  {
   "cell_type": "code",
   "execution_count": 2,
   "metadata": {},
   "outputs": [],
   "source": [
    "checkpoint = Path('../music-translation/checkpoints/pretrained_musicnet/bestmodel')\n",
    "decoders = [0, 1, 2, 3, 4, 5]\n",
    "batch_size = 1\n",
    "rate = 16000\n",
    "split_size = 20\n",
    "file_paths = [Path('encoded-musicnet/encoded/Bach_Solo_Cello/2217.pt')]"
   ]
  },
  {
   "cell_type": "code",
   "execution_count": 3,
   "metadata": {},
   "outputs": [],
   "source": [
    "def disp(x, decoder_ix):\n",
    "    wav = utils.inv_mu_law(x.cpu().numpy())\n",
    "    print(f'Decoder: {decoder_ix}')\n",
    "    print(f'X min: {x.min()}, max: {x.max()}')\n",
    "\n",
    "    display(Audio(wav.squeeze(), rate=rate))\n",
    "        \n",
    "def extract_id(path):\n",
    "    decoder_id = str(path)[:-4].split('_')[-1]\n",
    "    return int(decoder_id)"
   ]
  },
  {
   "cell_type": "code",
   "execution_count": 4,
   "metadata": {},
   "outputs": [
    {
     "name": "stdout",
     "output_type": "stream",
     "text": [
      "Starting\n"
     ]
    }
   ],
   "source": [
    "print('Starting')\n",
    "matplotlib.use('agg')\n",
    "\n",
    "checkpoints = checkpoint.parent.glob(checkpoint.name + '_*.pth')\n",
    "checkpoints = [c for c in checkpoints if extract_id(c) in decoders]\n",
    "assert len(checkpoints) >= 1, \"No checkpoints found.\"\n",
    "\n",
    "model_args = torch.load(checkpoint.parent / 'args.pth')[0]\n",
    "\n",
    "decoders = []\n",
    "decoder_ids = []\n",
    "for checkpoint in checkpoints:\n",
    "    decoder = WaveNet(model_args)\n",
    "    decoder.load_state_dict(torch.load(checkpoint)['decoder_state'])\n",
    "    decoder.eval()\n",
    "    decoder = decoder.cuda()\n",
    "    decoder = WavenetGenerator(decoder, batch_size, wav_freq=rate)\n",
    "    \n",
    "    decoders += [decoder]\n",
    "    decoder_ids += [extract_id(checkpoint)]"
   ]
  },
  {
   "cell_type": "code",
   "execution_count": 7,
   "metadata": {},
   "outputs": [
    {
     "name": "stdout",
     "output_type": "stream",
     "text": [
      "torch.Size([1, 64, 200])\n",
      "torch.Size([1, 64, 200])\n"
     ]
    },
    {
     "name": "stderr",
     "output_type": "stream",
     "text": [
      "/home/wangjim19/virtualenv/lib/python3.6/site-packages/ipykernel_launcher.py:18: TqdmDeprecationWarning: This function will be removed in tqdm==5.0.0\n",
      "Please use `tqdm.notebook.tqdm` instead of `tqdm.tqdm_notebook`\n"
     ]
    },
    {
     "data": {
      "application/vnd.jupyter.widget-view+json": {
       "model_id": "88a2f4619af04b97b50ec788b3fa7d03",
       "version_major": 2,
       "version_minor": 0
      },
      "text/plain": [
       "HBox(children=(FloatProgress(value=0.0, max=10.0), HTML(value='')))"
      ]
     },
     "metadata": {},
     "output_type": "display_data"
    },
    {
     "name": "stderr",
     "output_type": "stream",
     "text": [
      "Generating:   0%|          | 0/20 [00:00<?, ?it/s]../music-translation/src/wavenet_generator.py:104: UserWarning: Implicit dimension choice for softmax has been deprecated. Change the call to include dim=X as an argument.\n",
      "  probabilities = F.softmax(prediction)\n",
      "Generating: 100%|██████████| 20/20 [08:49<00:00, 26.48s/it]\n",
      "Generating: 100%|██████████| 20/20 [08:45<00:00, 26.29s/it]\n",
      "Generating: 100%|██████████| 20/20 [09:22<00:00, 28.12s/it]\n",
      "Generating: 100%|██████████| 20/20 [11:33<00:00, 34.66s/it]\n",
      "Generating: 100%|██████████| 20/20 [15:44<00:00, 47.23s/it]\n",
      "Generating: 100%|██████████| 20/20 [15:46<00:00, 47.33s/it]\n",
      "Generating: 100%|██████████| 20/20 [15:46<00:00, 47.31s/it]\n",
      "Generating: 100%|██████████| 20/20 [15:47<00:00, 47.36s/it]\n",
      "Generating: 100%|██████████| 20/20 [15:45<00:00, 47.29s/it]\n",
      "Generating: 100%|██████████| 20/20 [15:44<00:00, 47.22s/it]"
     ]
    },
    {
     "name": "stdout",
     "output_type": "stream",
     "text": [
      "\n",
      "torch.Size([1, 64, 200])\n"
     ]
    },
    {
     "name": "stderr",
     "output_type": "stream",
     "text": [
      "\n"
     ]
    },
    {
     "data": {
      "application/vnd.jupyter.widget-view+json": {
       "model_id": "f1fc399f7fc34ac7b412afe5c100ec8f",
       "version_major": 2,
       "version_minor": 0
      },
      "text/plain": [
       "HBox(children=(FloatProgress(value=0.0, max=10.0), HTML(value='')))"
      ]
     },
     "metadata": {},
     "output_type": "display_data"
    },
    {
     "name": "stderr",
     "output_type": "stream",
     "text": [
      "Generating: 100%|██████████| 20/20 [15:46<00:00, 47.35s/it]\n",
      "Generating: 100%|██████████| 20/20 [15:46<00:00, 47.35s/it]\n",
      "Generating: 100%|██████████| 20/20 [15:46<00:00, 47.34s/it]\n",
      "Generating: 100%|██████████| 20/20 [15:46<00:00, 47.32s/it]\n",
      "Generating: 100%|██████████| 20/20 [15:46<00:00, 47.32s/it]\n",
      "Generating: 100%|██████████| 20/20 [15:46<00:00, 47.31s/it]\n",
      "Generating: 100%|██████████| 20/20 [15:46<00:00, 47.31s/it]\n",
      "Generating: 100%|██████████| 20/20 [15:46<00:00, 47.33s/it]\n",
      "Generating: 100%|██████████| 20/20 [15:46<00:00, 47.33s/it]\n",
      "Generating: 100%|██████████| 20/20 [15:45<00:00, 47.28s/it]"
     ]
    },
    {
     "name": "stdout",
     "output_type": "stream",
     "text": [
      "\n",
      "torch.Size([1, 64, 200])\n"
     ]
    },
    {
     "name": "stderr",
     "output_type": "stream",
     "text": [
      "\n"
     ]
    },
    {
     "data": {
      "application/vnd.jupyter.widget-view+json": {
       "model_id": "e3cbf3cfa0b34ce49bc09461e0daa2ad",
       "version_major": 2,
       "version_minor": 0
      },
      "text/plain": [
       "HBox(children=(FloatProgress(value=0.0, max=10.0), HTML(value='')))"
      ]
     },
     "metadata": {},
     "output_type": "display_data"
    },
    {
     "name": "stderr",
     "output_type": "stream",
     "text": [
      "Generating: 100%|██████████| 20/20 [15:44<00:00, 47.22s/it]\n",
      "Generating: 100%|██████████| 20/20 [15:45<00:00, 47.26s/it]\n",
      "Generating: 100%|██████████| 20/20 [15:45<00:00, 47.27s/it]\n",
      "Generating: 100%|██████████| 20/20 [15:46<00:00, 47.32s/it]\n",
      "Generating: 100%|██████████| 20/20 [15:45<00:00, 47.26s/it]\n",
      "Generating: 100%|██████████| 20/20 [15:46<00:00, 47.31s/it]\n",
      "Generating: 100%|██████████| 20/20 [15:46<00:00, 47.32s/it]\n",
      "Generating: 100%|██████████| 20/20 [15:45<00:00, 47.29s/it]\n",
      "Generating: 100%|██████████| 20/20 [15:45<00:00, 47.26s/it]\n",
      "Generating: 100%|██████████| 20/20 [15:45<00:00, 47.27s/it]"
     ]
    },
    {
     "name": "stdout",
     "output_type": "stream",
     "text": [
      "\n",
      "torch.Size([1, 64, 200])\n"
     ]
    },
    {
     "name": "stderr",
     "output_type": "stream",
     "text": [
      "\n"
     ]
    },
    {
     "data": {
      "application/vnd.jupyter.widget-view+json": {
       "model_id": "6eac4b31c8e448bbb49474dd79ad14a4",
       "version_major": 2,
       "version_minor": 0
      },
      "text/plain": [
       "HBox(children=(FloatProgress(value=0.0, max=10.0), HTML(value='')))"
      ]
     },
     "metadata": {},
     "output_type": "display_data"
    },
    {
     "name": "stderr",
     "output_type": "stream",
     "text": [
      "Generating: 100%|██████████| 20/20 [15:46<00:00, 47.33s/it]\n",
      "Generating: 100%|██████████| 20/20 [15:45<00:00, 47.27s/it]\n",
      "Generating: 100%|██████████| 20/20 [15:45<00:00, 47.28s/it]\n",
      "Generating: 100%|██████████| 20/20 [14:50<00:00, 44.55s/it]\n",
      "Generating: 100%|██████████| 20/20 [10:34<00:00, 31.74s/it]\n",
      "Generating: 100%|██████████| 20/20 [10:39<00:00, 31.97s/it]\n",
      "Generating: 100%|██████████| 20/20 [10:19<00:00, 30.99s/it]\n",
      "Generating: 100%|██████████| 20/20 [09:29<00:00, 28.45s/it]\n",
      "Generating: 100%|██████████| 20/20 [10:19<00:00, 31.00s/it]\n",
      "Generating: 100%|██████████| 20/20 [10:25<00:00, 31.27s/it]"
     ]
    },
    {
     "name": "stdout",
     "output_type": "stream",
     "text": [
      "\n",
      "torch.Size([1, 64, 200])\n"
     ]
    },
    {
     "name": "stderr",
     "output_type": "stream",
     "text": [
      "\n"
     ]
    },
    {
     "data": {
      "application/vnd.jupyter.widget-view+json": {
       "model_id": "473330a6f230420fa7fb0ad6d99459fe",
       "version_major": 2,
       "version_minor": 0
      },
      "text/plain": [
       "HBox(children=(FloatProgress(value=0.0, max=10.0), HTML(value='')))"
      ]
     },
     "metadata": {},
     "output_type": "display_data"
    },
    {
     "name": "stderr",
     "output_type": "stream",
     "text": [
      "Generating: 100%|██████████| 20/20 [10:25<00:00, 31.26s/it]\n",
      "Generating: 100%|██████████| 20/20 [10:25<00:00, 31.29s/it]\n",
      "Generating: 100%|██████████| 20/20 [10:25<00:00, 31.28s/it]\n",
      "Generating: 100%|██████████| 20/20 [10:24<00:00, 31.23s/it]\n",
      "Generating: 100%|██████████| 20/20 [10:25<00:00, 31.27s/it]\n",
      "Generating: 100%|██████████| 20/20 [10:25<00:00, 31.29s/it]\n",
      "Generating: 100%|██████████| 20/20 [10:25<00:00, 31.29s/it]\n",
      "Generating: 100%|██████████| 20/20 [10:25<00:00, 31.29s/it]\n",
      "Generating: 100%|██████████| 20/20 [10:26<00:00, 31.32s/it]\n",
      "Generating: 100%|██████████| 20/20 [10:26<00:00, 31.31s/it]"
     ]
    },
    {
     "name": "stdout",
     "output_type": "stream",
     "text": [
      "\n",
      "torch.Size([1, 64, 200])\n"
     ]
    },
    {
     "name": "stderr",
     "output_type": "stream",
     "text": [
      "\n"
     ]
    },
    {
     "data": {
      "application/vnd.jupyter.widget-view+json": {
       "model_id": "fa76e7a610144efe8e85bb2bd8420f7f",
       "version_major": 2,
       "version_minor": 0
      },
      "text/plain": [
       "HBox(children=(FloatProgress(value=0.0, max=10.0), HTML(value='')))"
      ]
     },
     "metadata": {},
     "output_type": "display_data"
    },
    {
     "name": "stderr",
     "output_type": "stream",
     "text": [
      "Generating: 100%|██████████| 20/20 [10:24<00:00, 31.24s/it]\n",
      "Generating: 100%|██████████| 20/20 [10:26<00:00, 31.31s/it]\n",
      "Generating: 100%|██████████| 20/20 [10:26<00:00, 31.31s/it]\n",
      "Generating: 100%|██████████| 20/20 [10:26<00:00, 31.31s/it]\n",
      "Generating: 100%|██████████| 20/20 [10:29<00:00, 31.46s/it]\n",
      "Generating: 100%|██████████| 20/20 [10:26<00:00, 31.30s/it]\n",
      "Generating: 100%|██████████| 20/20 [10:58<00:00, 32.93s/it]\n",
      "Generating: 100%|██████████| 20/20 [09:47<00:00, 29.36s/it]\n",
      "Generating: 100%|██████████| 20/20 [10:11<00:00, 30.56s/it]\n",
      "Generating: 100%|██████████| 20/20 [10:25<00:00, 31.30s/it]"
     ]
    },
    {
     "name": "stdout",
     "output_type": "stream",
     "text": [
      "\n",
      "Generation timer took 46853280.14039993 ms\n"
     ]
    },
    {
     "name": "stderr",
     "output_type": "stream",
     "text": [
      "\n"
     ]
    }
   ],
   "source": [
    "yy = {}\n",
    "with torch.no_grad():\n",
    "    zz = []\n",
    "    for file_path in file_paths:\n",
    "        zz += [torch.load(file_path)]\n",
    "    zz = torch.cat(zz, dim=0)\n",
    "    print(zz.shape)\n",
    "\n",
    "    with utils.timeit(\"Generation timer\"):\n",
    "        for i, decoder_id in enumerate(decoder_ids):\n",
    "            yy[decoder_id] = []\n",
    "            decoder = decoders[i]\n",
    "            for zz_batch in torch.split(zz, batch_size):\n",
    "                print(zz_batch.shape)\n",
    "                splits = torch.split(zz_batch, split_size, -1)\n",
    "                audio_data = []\n",
    "                decoder.reset()\n",
    "                for cond in tqdm.tqdm_notebook(splits):\n",
    "                    audio_data += [decoder.generate(cond).cpu()]\n",
    "                audio_data = torch.cat(audio_data, -1)\n",
    "                yy[decoder_id] += [audio_data]\n",
    "            yy[decoder_id] = torch.cat(yy[decoder_id], dim=0)"
   ]
  },
  {
   "cell_type": "code",
   "execution_count": null,
   "metadata": {},
   "outputs": [],
   "source": []
  }
 ],
 "metadata": {
  "kernelspec": {
   "display_name": "Python 3",
   "language": "python",
   "name": "python3"
  },
  "language_info": {
   "codemirror_mode": {
    "name": "ipython",
    "version": 3
   },
   "file_extension": ".py",
   "mimetype": "text/x-python",
   "name": "python",
   "nbconvert_exporter": "python",
   "pygments_lexer": "ipython3",
   "version": "3.6.9"
  }
 },
 "nbformat": 4,
 "nbformat_minor": 4
}
